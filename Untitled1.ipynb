{
 "cells": [
  {
   "cell_type": "code",
   "execution_count": 2,
   "id": "8b639f38-0851-4c5a-b979-f456bc746fae",
   "metadata": {},
   "outputs": [
    {
     "name": "stdout",
     "output_type": "stream",
     "text": [
      "Capturing background... Please stay still.\n",
      "Background captured!\n",
      "Starting invisibility effect. Press ESC to exit.\n"
     ]
    }
   ],
   "source": [
    "import cv2\n",
    "import numpy as np\n",
    "import time\n",
    "\n",
    "# Initialize the webcam\n",
    "capture_video = cv2.VideoCapture(0)\n",
    "time.sleep(2)  # Give the camera time to warm up\n",
    "\n",
    "# Capture background frame\n",
    "print(\"Capturing background... Please stay still.\")\n",
    "background = None\n",
    "for i in range(60):\n",
    "    ret, background = capture_video.read()\n",
    "    if not ret:\n",
    "        continue\n",
    "    background = np.flip(background, axis=1)  # Flip to mirror image\n",
    "\n",
    "print(\"Background captured!\")\n",
    "\n",
    "# Start real-time video capture\n",
    "print(\"Starting invisibility effect. Press ESC to exit.\")\n",
    "while capture_video.isOpened():\n",
    "    ret, img = capture_video.read()\n",
    "    if not ret:\n",
    "        break\n",
    "\n",
    "    img = np.flip(img, axis=1)  # Flip for a mirror-like view\n",
    "\n",
    "    # Convert to HSV color space\n",
    "    hsv = cv2.cvtColor(img, cv2.COLOR_BGR2HSV)\n",
    "\n",
    "    # White color range mask\n",
    "    lower_white = np.array([0, 0, 200])\n",
    "    upper_white = np.array([180, 55, 255])\n",
    "    mask = cv2.inRange(hsv, lower_white, upper_white)\n",
    "\n",
    "    # Clean up the mask\n",
    "    mask = cv2.morphologyEx(mask, cv2.MORPH_OPEN, np.ones((3, 3), np.uint8), iterations=2)\n",
    "    mask = cv2.dilate(mask, np.ones((3, 3), np.uint8), iterations=1)\n",
    "    mask_inv = cv2.bitwise_not(mask)\n",
    "\n",
    "    # Segment out the white color part by replacing with background\n",
    "    res1 = cv2.bitwise_and(background, background, mask=mask)\n",
    "    res2 = cv2.bitwise_and(img, img, mask=mask_inv)\n",
    "    final_output = cv2.addWeighted(res1, 1, res2, 1, 0)\n",
    "\n",
    "    cv2.imshow(\"Invisibility Cloak (White)\", final_output)\n",
    "\n",
    "    if cv2.waitKey(1) == 27:  # ESC key to exit\n",
    "        break\n",
    "\n",
    "# Release and destroy windows\n",
    "capture_video.release()\n",
    "cv2.destroyAllWindows()"
   ]
  },
  {
   "cell_type": "code",
   "execution_count": null,
   "id": "26593972-c1f2-447b-b96f-0d4262785097",
   "metadata": {},
   "outputs": [],
   "source": []
  }
 ],
 "metadata": {
  "kernelspec": {
   "display_name": "Python 3 (ipykernel)",
   "language": "python",
   "name": "python3"
  },
  "language_info": {
   "codemirror_mode": {
    "name": "ipython",
    "version": 3
   },
   "file_extension": ".py",
   "mimetype": "text/x-python",
   "name": "python",
   "nbconvert_exporter": "python",
   "pygments_lexer": "ipython3",
   "version": "3.13.0"
  }
 },
 "nbformat": 4,
 "nbformat_minor": 5
}
