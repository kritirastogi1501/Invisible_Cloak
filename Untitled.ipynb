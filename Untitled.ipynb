{
 "cells": [
  {
   "cell_type": "code",
   "execution_count": 1,
   "id": "c01def19-cc8a-407d-a01d-0da77715e5a8",
   "metadata": {},
   "outputs": [
    {
     "name": "stderr",
     "output_type": "stream",
     "text": [
      "ERROR: Could not find a version that satisfies the requirement mediapipe (from versions: none)\n",
      "ERROR: No matching distribution found for mediapipe\n"
     ]
    }
   ],
   "source": [
    "!pip install mediapipe"
   ]
  },
  {
   "cell_type": "code",
   "execution_count": 2,
   "id": "a01e3857-0b8b-40ae-bfd2-052889799bf6",
   "metadata": {},
   "outputs": [
    {
     "name": "stdout",
     "output_type": "stream",
     "text": [
      "Requirement already satisfied: cvzone in c:\\users\\kriti rastogi\\appdata\\local\\programs\\python\\python37\\lib\\site-packages (1.6.1)\n",
      "Requirement already satisfied: opencv-python in c:\\users\\kriti rastogi\\appdata\\local\\programs\\python\\python37\\lib\\site-packages (from cvzone) (4.10.0.84)\n",
      "Requirement already satisfied: numpy in c:\\users\\kriti rastogi\\appdata\\local\\programs\\python\\python37\\lib\\site-packages (from cvzone) (1.21.6)\n"
     ]
    }
   ],
   "source": [
    "!pip install cvzone "
   ]
  },
  {
   "cell_type": "code",
   "execution_count": 3,
   "id": "2c26a314-2cd8-4af2-83c5-c2287c93a852",
   "metadata": {},
   "outputs": [
    {
     "ename": "ModuleNotFoundError",
     "evalue": "No module named 'cvzone'",
     "output_type": "error",
     "traceback": [
      "\u001b[1;31m---------------------------------------------------------------------------\u001b[0m",
      "\u001b[1;31mModuleNotFoundError\u001b[0m                       Traceback (most recent call last)",
      "Cell \u001b[1;32mIn[3], line 3\u001b[0m\n\u001b[0;32m      1\u001b[0m \u001b[38;5;28;01mimport\u001b[39;00m \u001b[38;5;21;01mrandom\u001b[39;00m\n\u001b[0;32m      2\u001b[0m \u001b[38;5;28;01mimport\u001b[39;00m \u001b[38;5;21;01mcv2\u001b[39;00m\n\u001b[1;32m----> 3\u001b[0m \u001b[38;5;28;01mimport\u001b[39;00m \u001b[38;5;21;01mcvzone\u001b[39;00m\n\u001b[0;32m      4\u001b[0m \u001b[38;5;28;01mfrom\u001b[39;00m \u001b[38;5;21;01mcvzone\u001b[39;00m\u001b[38;5;21;01m.\u001b[39;00m\u001b[38;5;21;01mHandTrackingModule\u001b[39;00m \u001b[38;5;28;01mimport\u001b[39;00m HandDetector\n\u001b[0;32m      5\u001b[0m \u001b[38;5;28;01mimport\u001b[39;00m \u001b[38;5;21;01mtime\u001b[39;00m\n",
      "\u001b[1;31mModuleNotFoundError\u001b[0m: No module named 'cvzone'"
     ]
    }
   ],
   "source": [
    "import random\n",
    "import cv2\n",
    "import cvzone\n",
    "from cvzone.HandTrackingModule import HandDetector\n",
    "import time\n",
    "\n",
    "cap = cv2.VideoCapture(0)\n",
    "cap.set(3, 640)\n",
    "cap.set(4, 480)\n",
    "\n",
    "detector = HandDetector(maxHands=1)\n",
    "\n",
    "timer = 0\n",
    "stateResult = False\n",
    "startGame = False\n",
    "scores = [0, 0]  # [AI, Player]\n",
    "\n",
    "while True:\n",
    "    imgBG = cv2.imread(\"Resources/BG.png\")\n",
    "    success, img = cap.read()\n",
    "\n",
    "    imgScaled = cv2.resize(img, (0, 0), None, 0.875, 0.875)\n",
    "    imgScaled = imgScaled[:, 80:480]\n",
    "\n",
    "    # Find Hands\n",
    "    hands, img = detector.findHands(imgScaled)  # with draw\n",
    "\n",
    "    if startGame:\n",
    "\n",
    "        if stateResult is False:\n",
    "            timer = time.time() - initialTime\n",
    "            cv2.putText(imgBG, str(int(timer)), (605, 435), cv2.FONT_HERSHEY_PLAIN, 6, (255, 0, 255), 4)\n",
    "\n",
    "            if timer > 3:\n",
    "                stateResult = True\n",
    "                timer = 0\n",
    "\n",
    "                if hands:\n",
    "                    playerMove = None\n",
    "                    hand = hands[0]\n",
    "                    fingers = detector.fingersUp(hand)\n",
    "                    if fingers == [0, 0, 0, 0, 0]:\n",
    "                        playerMove = 1\n",
    "                    if fingers == [1, 1, 1, 1, 1]:\n",
    "                        playerMove = 2\n",
    "                    if fingers == [0, 1, 1, 0, 0]:\n",
    "                        playerMove = 3\n",
    "\n",
    "                    randomNumber = random.randint(1, 3)\n",
    "                    imgAI = cv2.imread(f'Resources/{randomNumber}.png', cv2.IMREAD_UNCHANGED)\n",
    "                    imgBG = cvzone.overlayPNG(imgBG, imgAI, (149, 310))\n",
    "\n",
    "                    # Player Wins\n",
    "                    if (playerMove == 1 and randomNumber == 3) or \\\n",
    "                            (playerMove == 2 and randomNumber == 1) or \\\n",
    "                            (playerMove == 3 and randomNumber == 2):\n",
    "                        scores[1] += 1\n",
    "\n",
    "                    # AI Wins\n",
    "                    if (playerMove == 3 and randomNumber == 1) or \\\n",
    "                            (playerMove == 1 and randomNumber == 2) or \\\n",
    "                            (playerMove == 2 and randomNumber == 3):\n",
    "                        scores[0] += 1\n",
    "\n",
    "    imgBG[234:654, 795:1195] = imgScaled\n",
    "\n",
    "    if stateResult:\n",
    "        imgBG = cvzone.overlayPNG(imgBG, imgAI, (149, 310))\n",
    "\n",
    "    cv2.putText(imgBG, str(scores[0]), (410, 215), cv2.FONT_HERSHEY_PLAIN, 4, (255, 255, 255), 6)\n",
    "    cv2.putText(imgBG, str(scores[1]), (1112, 215), cv2.FONT_HERSHEY_PLAIN, 4, (255, 255, 255), 6)\n",
    "\n",
    "    # cv2.imshow(\"Image\", img)\n",
    "    cv2.imshow(\"BG\", imgBG)\n",
    "    # cv2.imshow(\"Scaled\", imgScaled)\n",
    "\n",
    "    key = cv2.waitKey(1)\n",
    "    if key == ord('s'):\n",
    "        startGame = True\n",
    "        initialTime = time.time()\n",
    "        stateResult = False"
   ]
  },
  {
   "cell_type": "code",
   "execution_count": 5,
   "id": "c75b12bf-2c1a-42ae-ab38-3a987cc463df",
   "metadata": {},
   "outputs": [
    {
     "name": "stdout",
     "output_type": "stream",
     "text": [
      "Requirement already satisfied: cvzone in c:\\users\\kriti rastogi\\appdata\\local\\programs\\python\\python313\\lib\\site-packages (1.6.1)\n",
      "Requirement already satisfied: opencv-python in c:\\users\\kriti rastogi\\appdata\\local\\programs\\python\\python313\\lib\\site-packages (from cvzone) (4.10.0.84)\n",
      "Requirement already satisfied: numpy in c:\\users\\kriti rastogi\\appdata\\local\\programs\\python\\python313\\lib\\site-packages (from cvzone) (2.1.3)\n",
      "Note: you may need to restart the kernel to use updated packages.\n"
     ]
    },
    {
     "name": "stderr",
     "output_type": "stream",
     "text": [
      "\n",
      "[notice] A new release of pip is available: 24.3.1 -> 25.0.1\n",
      "[notice] To update, run: C:\\Users\\Kriti Rastogi\\AppData\\Local\\Programs\\Python\\Python313\\python.exe -m pip install --upgrade pip\n"
     ]
    }
   ],
   "source": [
    "pip install cvzone\n"
   ]
  },
  {
   "cell_type": "code",
   "execution_count": 6,
   "id": "ffdc7fc2-f29b-4a2f-85c2-eeadb3b141fb",
   "metadata": {},
   "outputs": [
    {
     "ename": "SyntaxError",
     "evalue": "invalid syntax (891229.py, line 1)",
     "output_type": "error",
     "traceback": [
      "\u001b[1;36m  Cell \u001b[1;32mIn[6], line 1\u001b[1;36m\u001b[0m\n\u001b[1;33m    pip install cvzone\u001b[0m\n\u001b[1;37m        ^\u001b[0m\n\u001b[1;31mSyntaxError\u001b[0m\u001b[1;31m:\u001b[0m invalid syntax\n"
     ]
    }
   ],
   "source": [
    "pip install cvzone\n",
    "import random\n",
    "\n",
    "import cv2\n",
    "import cvzone\n",
    "from cvzone.HandTrackingModule import HandDetector\n",
    "import time\n",
    "\n",
    "cap = cv2.VideoCapture(0)\n",
    "cap.set(3, 640)\n",
    "cap.set(4, 480)\n",
    "\n",
    "detector = HandDetector(maxHands=1)\n",
    "\n",
    "timer = 0\n",
    "stateResult = False\n",
    "startGame = False\n",
    "scores = [0, 0]  # [AI, Player]\n",
    "\n",
    "while True:\n",
    "    imgBG = cv2.imread(\"Resources/BG.png\")\n",
    "    success, img = cap.read()\n",
    "\n",
    "    imgScaled = cv2.resize(img, (0, 0), None, 0.875, 0.875)\n",
    "    imgScaled = imgScaled[:, 80:480]\n",
    "\n",
    "    # Find Hands\n",
    "    hands, img = detector.findHands(imgScaled)  # with draw\n",
    "\n",
    "    if startGame:\n",
    "\n",
    "        if stateResult is False:\n",
    "            timer = time.time() - initialTime\n",
    "            cv2.putText(imgBG, str(int(timer)), (605, 435), cv2.FONT_HERSHEY_PLAIN, 6, (255, 0, 255), 4)\n",
    "\n",
    "            if timer > 3:\n",
    "                stateResult = True\n",
    "                timer = 0\n",
    "\n",
    "                if hands:\n",
    "                    playerMove = None\n",
    "                    hand = hands[0]\n",
    "                    fingers = detector.fingersUp(hand)\n",
    "                    if fingers == [0, 0, 0, 0, 0]:\n",
    "                        playerMove = 1\n",
    "                    if fingers == [1, 1, 1, 1, 1]:\n",
    "                        playerMove = 2\n",
    "                    if fingers == [0, 1, 1, 0, 0]:\n",
    "                        playerMove = 3\n",
    "\n",
    "                    randomNumber = random.randint(1, 3)\n",
    "                    imgAI = cv2.imread(f'Resources/{randomNumber}.png', cv2.IMREAD_UNCHANGED)\n",
    "                    imgBG = cvzone.overlayPNG(imgBG, imgAI, (149, 310))\n",
    "\n",
    "                    # Player Wins\n",
    "                    if (playerMove == 1 and randomNumber == 3) or \\\n",
    "                            (playerMove == 2 and randomNumber == 1) or \\\n",
    "                            (playerMove == 3 and randomNumber == 2):\n",
    "                        scores[1] += 1\n",
    "\n",
    "                    # AI Wins\n",
    "                    if (playerMove == 3 and randomNumber == 1) or \\\n",
    "                            (playerMove == 1 and randomNumber == 2) or \\\n",
    "                            (playerMove == 2 and randomNumber == 3):\n",
    "                        scores[0] += 1\n",
    "\n",
    "    imgBG[234:654, 795:1195] = imgScaled\n",
    "\n",
    "    if stateResult:\n",
    "        imgBG = cvzone.overlayPNG(imgBG, imgAI, (149, 310))\n",
    "\n",
    "    cv2.putText(imgBG, str(scores[0]), (410, 215), cv2.FONT_HERSHEY_PLAIN, 4, (255, 255, 255), 6)\n",
    "    cv2.putText(imgBG, str(scores[1]), (1112, 215), cv2.FONT_HERSHEY_PLAIN, 4, (255, 255, 255), 6)\n",
    "\n",
    "    # cv2.imshow(\"Image\", img)\n",
    "    cv2.imshow(\"BG\", imgBG)\n",
    "    # cv2.imshow(\"Scaled\", imgScaled)\n",
    "\n",
    "    key = cv2.waitKey(1)\n",
    "    if key == ord('s'):\n",
    "        startGame = True\n",
    "        initialTime = time.time()\n",
    "        stateResult = False"
   ]
  },
  {
   "cell_type": "code",
   "execution_count": 8,
   "id": "f7c0bcdf-052f-4246-b469-24c6be916434",
   "metadata": {},
   "outputs": [
    {
     "name": "stdout",
     "output_type": "stream",
     "text": [
      "Requirement already satisfied: pip in c:\\users\\kriti rastogi\\appdata\\local\\programs\\python\\python313\\lib\\site-packages (24.3.1)\n",
      "Collecting pip\n",
      "  Downloading pip-25.0.1-py3-none-any.whl.metadata (3.7 kB)\n",
      "Downloading pip-25.0.1-py3-none-any.whl (1.8 MB)\n",
      "   ---------------------------------------- 0.0/1.8 MB ? eta -:--:--\n",
      "   ----- ---------------------------------- 0.3/1.8 MB ? eta -:--:--\n",
      "   ---------------------------------------- 1.8/1.8 MB 7.6 MB/s eta 0:00:00\n",
      "Installing collected packages: pip\n",
      "  Attempting uninstall: pip\n",
      "    Found existing installation: pip 24.3.1\n",
      "    Uninstalling pip-24.3.1:\n",
      "      Successfully uninstalled pip-24.3.1\n",
      "Successfully installed pip-25.0.1\n",
      "Note: you may need to restart the kernel to use updated packages.\n"
     ]
    }
   ],
   "source": [
    " pip install --upgrade pip"
   ]
  },
  {
   "cell_type": "code",
   "execution_count": null,
   "id": "9d91c0d3-1166-47ce-b6c4-53819bc3ce41",
   "metadata": {},
   "outputs": [],
   "source": []
  }
 ],
 "metadata": {
  "kernelspec": {
   "display_name": "Python 3 (ipykernel)",
   "language": "python",
   "name": "python3"
  },
  "language_info": {
   "codemirror_mode": {
    "name": "ipython",
    "version": 3
   },
   "file_extension": ".py",
   "mimetype": "text/x-python",
   "name": "python",
   "nbconvert_exporter": "python",
   "pygments_lexer": "ipython3",
   "version": "3.13.0"
  }
 },
 "nbformat": 4,
 "nbformat_minor": 5
}
